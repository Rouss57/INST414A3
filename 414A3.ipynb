{
 "cells": [
  {
   "cell_type": "code",
   "execution_count": 3,
   "id": "70d1f9de-eb9b-4ffe-add8-9ec2abf50399",
   "metadata": {},
   "outputs": [],
   "source": [
    "import pandas as pd\n",
    "import numpy as np\n",
    "from scipy.spatial.distance import cdist"
   ]
  },
  {
   "cell_type": "code",
   "execution_count": 4,
   "id": "d0975c73-c45d-4988-b312-84b569b021cf",
   "metadata": {
    "tags": []
   },
   "outputs": [],
   "source": [
    "file_path = 'final_data 2.csv'\n",
    "df = pd.read_csv(file_path)"
   ]
  },
  {
   "cell_type": "code",
   "execution_count": 23,
   "id": "471040d9-7ef2-43b0-a174-825b35f3a934",
   "metadata": {
    "tags": []
   },
   "outputs": [
    {
     "name": "stdout",
     "output_type": "stream",
     "text": [
      "[[6.20277357]\n",
      " [5.35687409]\n",
      " [4.81317982]\n",
      " ...\n",
      " [6.15801104]\n",
      " [7.25995179]\n",
      " [5.38744838]]\n"
     ]
    }
   ],
   "source": [
    "\n",
    "# Get the values for row 300 \n",
    "row300 = df.iloc[300][[\"pts\", \"ast\", \"reb\"]]\n",
    "\n",
    "# Get the selected columns from the entire dataframe  \n",
    "stats = df[[\"pts\", \"ast\", \"reb\"]]\n",
    "\n",
    "# Use cdist to calculate euclidean distance  \n",
    "dist = cdist(stats, row300.values.reshape(1, -1), metric='euclidean')\n",
    "\n",
    "# dist array will contain the distances between row 300 and each row\n",
    "print(dist)"
   ]
  },
  {
   "cell_type": "code",
   "execution_count": 20,
   "id": "ded43cb9-2720-412c-b405-68eee600272e",
   "metadata": {
    "tags": []
   },
   "outputs": [],
   "source": [
    "df = df.reset_index(drop=True)"
   ]
  },
  {
   "cell_type": "code",
   "execution_count": 6,
   "id": "3350ae8a-515a-472e-803e-f209d3e3bbd7",
   "metadata": {
    "tags": []
   },
   "outputs": [],
   "source": [
    "df = df.select_dtypes(include=[np.number])"
   ]
  },
  {
   "cell_type": "code",
   "execution_count": 42,
   "id": "a9f61714-5b9a-4b2c-8942-7be52d039076",
   "metadata": {
    "tags": []
   },
   "outputs": [
    {
     "name": "stdout",
     "output_type": "stream",
     "text": [
      "Row 300 - Distance: [0.]\n",
      "Row 372 - Distance: [0.96363894]\n",
      "Row 30 - Distance: [1.23438244]\n",
      "Row 361 - Distance: [1.5129772]\n",
      "Row 179 - Distance: [1.52029602]\n",
      "Row 931 - Distance: [1.67005988]\n",
      "Row 231 - Distance: [1.68514094]\n",
      "Row 353 - Distance: [1.76878489]\n",
      "Row 326 - Distance: [1.84306809]\n",
      "Row 308 - Distance: [1.91546339]\n"
     ]
    }
   ],
   "source": [
    "# Assuming 'dist' is your array of distances\n",
    "sorted_indices = np.argsort(dist.flatten())  # Flatten and sort the indices based on distance\n",
    "\n",
    "# Get the top 5 indices\n",
    "top_5_indices = sorted_indices[:10]\n",
    "\n",
    "# Print the indices and their corresponding distances\n",
    "for i in top_5_indices:\n",
    "    print(f\"Row {i} - Distance: {dist[i]}\")\n"
   ]
  },
  {
   "cell_type": "code",
   "execution_count": 43,
   "id": "0f135ceb-e45f-4218-ba59-98e31113d5c8",
   "metadata": {
    "tags": []
   },
   "outputs": [
    {
     "name": "stdout",
     "output_type": "stream",
     "text": [
      "[[5.51553261]\n",
      " [2.52099187]\n",
      " [7.09470225]\n",
      " ...\n",
      " [4.89003067]\n",
      " [4.53464442]\n",
      " [5.54657552]]\n"
     ]
    }
   ],
   "source": [
    "\n",
    "# Get the values for row 300 \n",
    "row384 = df.iloc[384][[\"pts\", \"ast\", \"reb\"]]\n",
    "\n",
    "# Get the selected columns from the entire dataframe  \n",
    "stats2 = df[[\"pts\", \"ast\", \"reb\"]]\n",
    "\n",
    "# Use cdist to calculate euclidean distance  \n",
    "dist2 = cdist(stats2, row384.values.reshape(1, -1), metric='euclidean')\n",
    "\n",
    "# dist array will contain the distances between row 300 and each row\n",
    "print(dist2)"
   ]
  },
  {
   "cell_type": "code",
   "execution_count": 44,
   "id": "21d99cb1-72a3-4f43-a706-8cf0833f6201",
   "metadata": {
    "tags": []
   },
   "outputs": [
    {
     "name": "stdout",
     "output_type": "stream",
     "text": [
      "Row 384 - Distance: [0.]\n",
      "Row 797 - Distance: [0.73885046]\n",
      "Row 121 - Distance: [0.83162492]\n",
      "Row 677 - Distance: [0.83480537]\n",
      "Row 266 - Distance: [0.86994253]\n",
      "Row 662 - Distance: [0.87344147]\n",
      "Row 787 - Distance: [0.96524608]\n",
      "Row 765 - Distance: [0.98645831]\n",
      "Row 755 - Distance: [1.01877377]\n",
      "Row 923 - Distance: [1.02254584]\n"
     ]
    }
   ],
   "source": [
    "# Assuming 'dist' is your array of distances\n",
    "sorted_indices2 = np.argsort(dist2.flatten())  # Flatten and sort the indices based on distance\n",
    "\n",
    "# Get the top 5 indices\n",
    "top_5_indices2 = sorted_indices2[:10]\n",
    "\n",
    "# Print the indices and their corresponding distances\n",
    "for i in top_5_indices2:\n",
    "    print(f\"Row {i} - Distance: {dist2[i]}\")\n"
   ]
  },
  {
   "cell_type": "code",
   "execution_count": null,
   "id": "9cc38b2f-79cc-4fc5-9c6d-8881ce040307",
   "metadata": {},
   "outputs": [],
   "source": []
  },
  {
   "cell_type": "code",
   "execution_count": 45,
   "id": "379ee29f-63d3-46e5-a561-bc39b1053f80",
   "metadata": {
    "tags": []
   },
   "outputs": [
    {
     "name": "stdout",
     "output_type": "stream",
     "text": [
      "[[6.24047025]\n",
      " [3.10333788]\n",
      " [7.26991369]\n",
      " ...\n",
      " [5.36977411]\n",
      " [5.04529097]\n",
      " [5.65909657]]\n"
     ]
    }
   ],
   "source": [
    "\n",
    "# Get the values for row 300 \n",
    "row384 = df.iloc[384][[\"pts\", \"ast\", \"reb\", \"fg_pct\", \"fg3_pct\", \"ft_pct\", \"fgm\", \"fg3m\", \"ftm\"]]\n",
    "\n",
    "# Get the selected columns from the entire dataframe  \n",
    "stats3 = df[[\"pts\", \"ast\", \"reb\", \"fg_pct\", \"fg3_pct\", \"ft_pct\", \"fgm\", \"fg3m\", \"ftm\"]]\n",
    "\n",
    "# Use cdist to calculate euclidean distance  \n",
    "dist3 = cdist(stats3, row384.values.reshape(1, -1), metric='euclidean')\n",
    "\n",
    "# dist array will contain the distances between row 300 and each row\n",
    "print(dist3)"
   ]
  },
  {
   "cell_type": "code",
   "execution_count": 46,
   "id": "90cdf833-9111-4962-a284-f4bf9f759158",
   "metadata": {
    "tags": []
   },
   "outputs": [
    {
     "name": "stdout",
     "output_type": "stream",
     "text": [
      "Row 384 - Distance: [0.]\n",
      "Row 765 - Distance: [1.29354938]\n",
      "Row 332 - Distance: [1.31105339]\n",
      "Row 797 - Distance: [1.34711915]\n",
      "Row 662 - Distance: [1.58486592]\n",
      "Row 445 - Distance: [1.62206196]\n",
      "Row 787 - Distance: [1.63321952]\n",
      "Row 346 - Distance: [1.70070191]\n",
      "Row 975 - Distance: [1.72639538]\n",
      "Row 638 - Distance: [1.78213973]\n"
     ]
    }
   ],
   "source": [
    "# Assuming 'dist' is your array of distances\n",
    "sorted_indices3 = np.argsort(dist3.flatten())  # Flatten and sort the indices based on distance\n",
    "\n",
    "# Get the top 5 indices\n",
    "top_5_indices3 = sorted_indices3[:10]\n",
    "\n",
    "# Print the indices and their corresponding distances\n",
    "for i in top_5_indices3:\n",
    "    print(f\"Row {i} - Distance: {dist3[i]}\")\n"
   ]
  },
  {
   "cell_type": "code",
   "execution_count": null,
   "id": "325d0d82-f100-40c4-8110-e5d3fac0329a",
   "metadata": {},
   "outputs": [],
   "source": []
  },
  {
   "cell_type": "code",
   "execution_count": 7,
   "id": "93808ea9-d409-4707-85d9-cf1bbdb97340",
   "metadata": {
    "tags": []
   },
   "outputs": [
    {
     "name": "stdout",
     "output_type": "stream",
     "text": [
      "[[2.22766694]\n",
      " [3.69579491]\n",
      " [4.38041094]\n",
      " ...\n",
      " [2.39207023]\n",
      " [1.88663722]\n",
      " [2.41960741]]\n"
     ]
    }
   ],
   "source": [
    "# Get the values for row 300 \n",
    "row195 = df.iloc[195][[\"reb\", \"blk\"]]\n",
    "\n",
    "# Get the selected columns from the entire dataframe  \n",
    "stats4 = df[[\"reb\", \"blk\"]]\n",
    "\n",
    "# Use cdist to calculate euclidean distance  \n",
    "dist4 = cdist(stats4, row195.values.reshape(1, -1), metric='euclidean')\n",
    "\n",
    "# dist array will contain the distances between row 300 and each row\n",
    "print(dist4)"
   ]
  },
  {
   "cell_type": "code",
   "execution_count": 8,
   "id": "a2e2de1b-80ab-494b-9dee-7996b847ac2c",
   "metadata": {
    "tags": []
   },
   "outputs": [
    {
     "name": "stdout",
     "output_type": "stream",
     "text": [
      "Row 195 - Distance: [0.]\n",
      "Row 801 - Distance: [0.02236068]\n",
      "Row 540 - Distance: [0.07211103]\n",
      "Row 818 - Distance: [0.09899495]\n",
      "Row 227 - Distance: [0.1]\n",
      "Row 10 - Distance: [0.1]\n",
      "Row 933 - Distance: [0.12041595]\n",
      "Row 235 - Distance: [0.14866069]\n",
      "Row 561 - Distance: [0.14866069]\n",
      "Row 940 - Distance: [0.15231546]\n"
     ]
    }
   ],
   "source": [
    "# Assuming 'dist' is your array of distances\n",
    "sorted_indices4 = np.argsort(dist4.flatten())  # Flatten and sort the indices based on distance\n",
    "\n",
    "# Get the top 5 indices\n",
    "top_5_indices4 = sorted_indices4[:10]\n",
    "\n",
    "# Print the indices and their corresponding distances\n",
    "for i in top_5_indices4:\n",
    "    print(f\"Row {i} - Distance: {dist4[i]}\")\n"
   ]
  },
  {
   "cell_type": "code",
   "execution_count": null,
   "id": "07f6cc07-e67a-476b-9fbf-92ad8a8d4d46",
   "metadata": {},
   "outputs": [],
   "source": []
  }
 ],
 "metadata": {
  "kernelspec": {
   "display_name": "Python 3 (ipykernel)",
   "language": "python",
   "name": "python3"
  },
  "language_info": {
   "codemirror_mode": {
    "name": "ipython",
    "version": 3
   },
   "file_extension": ".py",
   "mimetype": "text/x-python",
   "name": "python",
   "nbconvert_exporter": "python",
   "pygments_lexer": "ipython3",
   "version": "3.11.4"
  }
 },
 "nbformat": 4,
 "nbformat_minor": 5
}
